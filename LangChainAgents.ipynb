{
  "nbformat": 4,
  "nbformat_minor": 0,
  "metadata": {
    "colab": {
      "provenance": []
    },
    "kernelspec": {
      "name": "python3",
      "display_name": "Python 3"
    },
    "language_info": {
      "name": "python"
    }
  },
  "cells": [
    {
      "cell_type": "markdown",
      "source": [
        "This notebook explores AI agents, specifically using the LangChain framework. Think of an agent as a smart system that uses a Large Language Model (LLM) not just to answer questions, but to reason and decide on a sequence of actions. To do this, we give the agent access to tools—like a search engine, a calculator, or even custom Python code. The agent's job is to figure out which tools to use, and in what order, to accomplish a task it couldn't solve on its own."
      ],
      "metadata": {
        "id": "E4XQfVTAsUit"
      }
    },
    {
      "cell_type": "markdown",
      "source": [
        "### Getting Started"
      ],
      "metadata": {
        "id": "TxY2mQ98tKM9"
      }
    },
    {
      "cell_type": "code",
      "execution_count": null,
      "metadata": {
        "id": "sFlJ7knUt_ZX"
      },
      "outputs": [],
      "source": [
        "!pip install -q langchain-google-genai google-generativeai"
      ]
    },
    {
      "cell_type": "code",
      "source": [
        "import google.generativeai as genai\n",
        "from google.colab import userdata\n",
        "from langchain_google_genai import ChatGoogleGenerativeAI\n",
        "import requests\n",
        "\n",
        "# Get the API key from Colab secrets\n",
        "API_KEY = userdata.get('GOOGLE_API_KEY')\n",
        "\n",
        "# Configure the genai library with the API key\n",
        "genai.configure(api_key=API_KEY)"
      ],
      "metadata": {
        "id": "3oXD5kLluCZS"
      },
      "execution_count": null,
      "outputs": []
    },
    {
      "cell_type": "markdown",
      "source": [
        "### Perform Authentiation"
      ],
      "metadata": {
        "id": "DFcb6uWytOke"
      }
    },
    {
      "cell_type": "code",
      "source": [
        "from google.colab import auth\n",
        "auth.authenticate_user()"
      ],
      "metadata": {
        "id": "Ijs6E0i8-53V"
      },
      "execution_count": null,
      "outputs": []
    },
    {
      "cell_type": "markdown",
      "source": [
        "### Test your API KEY"
      ],
      "metadata": {
        "id": "pG-PJOkdtUPR"
      }
    },
    {
      "cell_type": "code",
      "source": [
        "llm = ChatGoogleGenerativeAI(model=\"gemini-1.5-flash\", google_api_key=API_KEY)\n",
        "try:\n",
        "    response = llm.invoke(\"What is LLM?\")\n",
        "    print(response)\n",
        "except Exception as e:\n",
        "    print(f\"An error occurred: {e}\")\n"
      ],
      "metadata": {
        "id": "KZXQ6uL8-9gH"
      },
      "execution_count": null,
      "outputs": []
    },
    {
      "cell_type": "markdown",
      "source": [
        "### Python function as a tool"
      ],
      "metadata": {
        "id": "oi5M4NjQtdwK"
      }
    },
    {
      "cell_type": "code",
      "source": [
        "# Currency converter function\n",
        "def convert_currency(input_text: str) -> str:\n",
        "    \"\"\"\n",
        "    Input format: '100 USD to INR'\n",
        "    \"\"\"\n",
        "    try:\n",
        "        parts = input_text.strip().upper().split()\n",
        "        amount = float(parts[0])\n",
        "        from_currency = parts[1]\n",
        "        to_currency = parts[3]\n",
        "\n",
        "        # Call exchange rate API\n",
        "        url = f\"https://api.exchangerate-api.com/v4/latest/{from_currency}\"\n",
        "        response = requests.get(url)\n",
        "        data = response.json()\n",
        "\n",
        "        rate = data[\"rates\"].get(to_currency)\n",
        "        if rate is None:\n",
        "            return f\"Conversion rate not found for {to_currency}.\"\n",
        "\n",
        "        converted = amount * rate\n",
        "        return f\"{amount} {from_currency} = {converted:.2f} {to_currency}\"\n",
        "\n",
        "    except Exception as e:\n",
        "        return f\"Error: {str(e)}. Format should be like '100 USD to INR'\""
      ],
      "metadata": {
        "id": "txvW3ihVXFT_"
      },
      "execution_count": null,
      "outputs": []
    },
    {
      "cell_type": "code",
      "source": [
        "from langchain.agents import Tool\n",
        "\n",
        "currency_tool = Tool(\n",
        "    name=\"CurrencyConverter\",\n",
        "    func=convert_currency,\n",
        "    description=\"Use this tool to convert currency like '100 USD to INR'.\"\n",
        ")"
      ],
      "metadata": {
        "id": "jyOLcBS7XLYG"
      },
      "execution_count": null,
      "outputs": []
    },
    {
      "cell_type": "markdown",
      "source": [
        "### Define your fist Agent"
      ],
      "metadata": {
        "id": "lZFC3U7Xtllj"
      }
    },
    {
      "cell_type": "code",
      "source": [
        "from langchain.agents import initialize_agent\n",
        "\n",
        "\n",
        "agent = initialize_agent(\n",
        "    tools=[currency_tool],\n",
        "    llm=llm,\n",
        "    verbose=True\n",
        ")"
      ],
      "metadata": {
        "id": "f9_dg0YKXQPu"
      },
      "execution_count": null,
      "outputs": []
    },
    {
      "cell_type": "markdown",
      "source": [
        "### Test your Agent"
      ],
      "metadata": {
        "id": "Bj8ndcCettvs"
      }
    },
    {
      "cell_type": "code",
      "source": [
        "response = agent.run(\"Convert 250 EUR to JPY\")\n",
        "print(response)"
      ],
      "metadata": {
        "id": "_gs-3azMXl1a"
      },
      "execution_count": null,
      "outputs": []
    },
    {
      "cell_type": "markdown",
      "source": [
        "### Adding another tool"
      ],
      "metadata": {
        "id": "HjHtnzxJtzHK"
      }
    },
    {
      "cell_type": "code",
      "source": [
        "# One more tool\n",
        "def multiply(text: str) -> str:\n",
        "    a, b = map(int, text.split())\n",
        "    return str(a * b)\n",
        "\n",
        "multiply_tool = Tool(\n",
        "    name=\"Multiply\",\n",
        "    func=multiply,\n",
        "    description=\"Multiplies two numbers provided as a space-separated string.\"\n",
        ")\n"
      ],
      "metadata": {
        "id": "RxfJiWepX0El"
      },
      "execution_count": null,
      "outputs": []
    },
    {
      "cell_type": "markdown",
      "source": [
        "### Redefine Agent"
      ],
      "metadata": {
        "id": "AAQdnjiwt4Cv"
      }
    },
    {
      "cell_type": "code",
      "source": [
        "agent = initialize_agent(\n",
        "    tools=[currency_tool,multiply_tool],\n",
        "    llm=llm,\n",
        "    verbose=True\n",
        ")"
      ],
      "metadata": {
        "id": "vMD1KUToYymn"
      },
      "execution_count": null,
      "outputs": []
    },
    {
      "cell_type": "markdown",
      "source": [
        "### Test the Agent with Multiple Tools"
      ],
      "metadata": {
        "id": "8S4c4QZWuAsK"
      }
    },
    {
      "cell_type": "code",
      "source": [
        "response = agent.run(\"what is 5 times 4? \")\n",
        "print(response)"
      ],
      "metadata": {
        "id": "0TgKZ0HIY4rj"
      },
      "execution_count": null,
      "outputs": []
    },
    {
      "cell_type": "code",
      "source": [
        "response = agent.run(\"100 indian rupees equals to how many US ?\")\n",
        "print(response)"
      ],
      "metadata": {
        "id": "Wv9X2n_kY9M9"
      },
      "execution_count": null,
      "outputs": []
    },
    {
      "cell_type": "code",
      "source": [],
      "metadata": {
        "id": "w4Df00NzZHTV"
      },
      "execution_count": null,
      "outputs": []
    }
  ]
}